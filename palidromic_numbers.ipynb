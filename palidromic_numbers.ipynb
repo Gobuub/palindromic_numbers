{
 "cells": [
  {
   "cell_type": "markdown",
   "id": "77fa10ae-8e62-4f9d-9fd9-b8440d3f780f",
   "metadata": {},
   "source": [
    "Resumen\n",
    "\n",
    "A palindromic number reads the same both ways. The largest palindrome made from the product of two 2-digit numbers is 9009 = 91 × 99.\n",
    "\n",
    "Find the largest palindrome made from the product of two 3-digit numbers."
   ]
  },
  {
   "cell_type": "code",
   "execution_count": 14,
   "id": "391d85cb-bc6a-4ec2-8c72-05f9633c297d",
   "metadata": {},
   "outputs": [
    {
     "name": "stdout",
     "output_type": "stream",
     "text": [
      "CPU times: user 4 µs, sys: 0 ns, total: 4 µs\n",
      "Wall time: 7.15 µs\n"
     ]
    }
   ],
   "source": [
    "def palindromic_number():\n",
    "    a = 999\n",
    "    b = 999\n",
    "    for i in range (101):\n",
    "        for j in range (101):\n",
    "            \n",
    "            num = (a-i) * (b-j)\n",
    "            #print(a-i)\n",
    "            #print (b-j)\n",
    "            num = str(num)\n",
    "            #print(num)\n",
    "           \n",
    "            if num[0]==num[-1] and num[1]==num[-2] and num[2]==num[-3]:\n",
    "                \n",
    "                return f\"El producto de {a-i} * {b-j} = {num}\"\n",
    "                break\n",
    "    "
   ]
  },
  {
   "cell_type": "code",
   "execution_count": 15,
   "id": "d519a720-d302-43ac-9eec-084137a6d461",
   "metadata": {},
   "outputs": [
    {
     "name": "stdout",
     "output_type": "stream",
     "text": [
      "CPU times: user 246 µs, sys: 1e+03 ns, total: 247 µs\n",
      "Wall time: 248 µs\n"
     ]
    },
    {
     "data": {
      "text/plain": [
       "'El producto de 993 * 913 = 906609'"
      ]
     },
     "execution_count": 15,
     "metadata": {},
     "output_type": "execute_result"
    }
   ],
   "source": [
    "%%time\n",
    "palindromic_number()\n"
   ]
  },
  {
   "cell_type": "code",
   "execution_count": null,
   "id": "3839eadd-b4bb-467a-8a64-358bca14b54a",
   "metadata": {},
   "outputs": [],
   "source": []
  }
 ],
 "metadata": {
  "kernelspec": {
   "display_name": "Python 3 (ipykernel)",
   "language": "python",
   "name": "python3"
  },
  "language_info": {
   "codemirror_mode": {
    "name": "ipython",
    "version": 3
   },
   "file_extension": ".py",
   "mimetype": "text/x-python",
   "name": "python",
   "nbconvert_exporter": "python",
   "pygments_lexer": "ipython3",
   "version": "3.8.11"
  }
 },
 "nbformat": 4,
 "nbformat_minor": 5
}
